{
 "cells": [
  {
   "cell_type": "code",
   "execution_count": 3,
   "metadata": {},
   "outputs": [
    {
     "data": {
      "text/plain": [
       "<src.gprof_log_manipulation.gprofLogManip at 0x7fe046249eb0>"
      ]
     },
     "execution_count": 3,
     "metadata": {},
     "output_type": "execute_result"
    }
   ],
   "source": [
    "import src.gprof_log_manipulation as gplog\n",
    "from os.path import isfile\n",
    "\n",
    "f_path = 'filesTest/AI/'\n",
    "file = f_path + 'BasketballPass_QP22.txt'\n",
    "\n",
    "#if isfile(file):\n",
    "gplog.gprofLogManip(file)\n"
   ]
  }
 ],
 "metadata": {
  "interpreter": {
   "hash": "e1d67b35190c898c5b7e02a2e88c487c8bf4962507eec571cc8a46f2eb7e1767"
  },
  "kernelspec": {
   "display_name": "Python 3.9.7 ('base')",
   "language": "python",
   "name": "python3"
  },
  "language_info": {
   "codemirror_mode": {
    "name": "ipython",
    "version": 3
   },
   "file_extension": ".py",
   "mimetype": "text/x-python",
   "name": "python",
   "nbconvert_exporter": "python",
   "pygments_lexer": "ipython3",
   "version": "3.9.7"
  },
  "orig_nbformat": 4
 },
 "nbformat": 4,
 "nbformat_minor": 2
}
