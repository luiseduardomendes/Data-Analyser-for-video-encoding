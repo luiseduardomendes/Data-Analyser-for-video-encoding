{
 "cells": [
  {
   "cell_type": "code",
   "execution_count": 14,
   "metadata": {},
   "outputs": [
    {
     "name": "stdout",
     "output_type": "stream",
     "text": [
      "          fileName  qp  frames     bitrate   Y_PSNR   U_PSNR   V_PSNR  \\\n",
      "0  BasketballDrive  22      32  49241.8125  41.7607  45.6785  47.7227   \n",
      "1  BasketballDrive  27      32  18377.8250  39.8809  44.4331  45.6517   \n",
      "2  BasketballDrive  37      32   5474.7500  37.0485  41.7555  41.8375   \n",
      "3  BasketballDrive  32      32   9595.0000  38.6014  43.0473  43.5681   \n",
      "\n",
      "   YUV_PSNR  \n",
      "0   42.8588  \n",
      "1   41.0198  \n",
      "2   38.1348  \n",
      "3   39.6813  \n",
      "                fileName  qp  frames     bitrate   Y_PSNR   U_PSNR   V_PSNR  \\\n",
      "0  BasketballDrive_intra  37      32   5491.2875  37.0455  41.7580  41.8323   \n",
      "1  BasketballDrive_intra  22      32  49188.1875  41.7551  45.6793  47.7237   \n",
      "2  BasketballDrive_intra  27      32  18401.2250  39.8801  44.4309  45.6484   \n",
      "3  BasketballDrive_intra  32      32   9616.6250  38.6014  43.0569  43.5688   \n",
      "\n",
      "   YUV_PSNR  \n",
      "0   38.1321  \n",
      "1   42.8542  \n",
      "2   41.0187  \n",
      "3   39.6820  \n"
     ]
    },
    {
     "data": {
      "text/plain": [
       "{'fileName': ['BasketballDrive',\n",
       "  'BasketballDrive',\n",
       "  'BasketballDrive',\n",
       "  'BasketballDrive'],\n",
       " 'qp': [22, 27, 37, 32],\n",
       " 'frames': [32, 32, 32, 32],\n",
       " 'bitrate': [49241.8125, 18377.825, 5474.75, 9595.0],\n",
       " 'Y_PSNR': [41.7607, 39.8809, 37.0485, 38.6014],\n",
       " 'U_PSNR': [45.6785, 44.4331, 41.7555, 43.0473],\n",
       " 'V_PSNR': [47.7227, 45.6517, 41.8375, 43.5681],\n",
       " 'YUV_PSNR': [42.8588, 41.0198, 38.1348, 39.6813]}"
      ]
     },
     "execution_count": 14,
     "metadata": {},
     "output_type": "execute_result"
    }
   ],
   "source": [
    "import src.gprof_log_manipulation as gplog\n",
    "from os.path import isfile\n",
    "import src.gprof_log_graphs as gpGraph\n",
    "\n",
    "f_path = 'filesTest/csvFiles/'\n",
    "file1 = f_path + 'BasketballDrive.csv'\n",
    "file2 = f_path + 'RitualDance.csv'\n",
    "\n",
    "file2 = 'filesOutLog/csvFiles/BasketballDrive_intra.csv'\n",
    "#file2 = 'filesTest/csvFiles/BasketballDrive.csv'\n",
    "\n",
    "#if isfile(file):\n",
    "\n",
    "a = gplog.gprofLogSets(file1)\n",
    "a.show()\n",
    "\n",
    "b = gplog.gprofLogSets(file2)\n",
    "b.show()\n",
    "\n",
    "dfa = a.returnDataFrame()\n",
    "dfb = b.returnDataFrame()\n",
    "\n",
    "data_a = dfa.to_dict('list')\n",
    "data_b = dfb.to_dict('list')\n",
    "\n",
    "\n",
    "                \n",
    "\n",
    "#gpGraph.comparisonSets(a, b, ('', 'YUV_PSNR'))"
   ]
  }
 ],
 "metadata": {
  "interpreter": {
   "hash": "8d86c190dfcadcdaa67edec4a1ea82702241987b5b1f320c920d3d4ca36fee5b"
  },
  "kernelspec": {
   "display_name": "Python 3.9.7 ('base')",
   "language": "python",
   "name": "python3"
  },
  "language_info": {
   "codemirror_mode": {
    "name": "ipython",
    "version": 3
   },
   "file_extension": ".py",
   "mimetype": "text/x-python",
   "name": "python",
   "nbconvert_exporter": "python",
   "pygments_lexer": "ipython3",
   "version": "3.9.7"
  },
  "orig_nbformat": 4
 },
 "nbformat": 4,
 "nbformat_minor": 2
}
