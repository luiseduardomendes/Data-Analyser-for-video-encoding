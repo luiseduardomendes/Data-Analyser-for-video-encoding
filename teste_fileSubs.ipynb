{
 "cells": [
  {
   "cell_type": "code",
   "execution_count": 1,
   "metadata": {},
   "outputs": [],
   "source": [
    "import os\n",
    "import re\n",
    "from fileSubstitution import fileSubs\n",
    "from pprint import pprint\n",
    "from src.gprof_executer import gprof_executer as gpexe\n",
    "\n",
    "vtm_dir = '/home/luispmendes/VVCSoftware_VTM/'\n",
    "satd_src = '/home/luispmendes/Data-Analyser-for-video-encoding/FilesForVVC/'\n",
    "satd_dir = vtm_dir + 'source/Lib/CommonLib/'\n",
    "cfg_dir = vtm_dir + 'cfg-files/'\n",
    "enc_cfg = 'encoder_lowdelay_vtm.cfg'\n",
    "video_cfg = cfg_dir + 'RaceHorses.cfg'\n",
    "\n",
    "pattern = re.compile(r'^/home/luispmendes/Data-Analyser-for-video-encoding/FilesForVVC/(.+)\\.cpp$')\n",
    "\n",
    "satd_settings = []\n",
    "for (dirpath, dirnames, filenames) in os.walk(satd_src):\n",
    "    satd_settings += [os.path.join(dirpath, file) for file in filenames]\n",
    "\n",
    "for settings in satd_settings:\n",
    "    fileSubs(settings, satd_dir)\n",
    "    print(f\"cmake {vtm_dir} -DCMAKE_BUILD_TYPE=Release\")\n",
    "    print(\"make\")\n"
   ]
  }
 ],
 "metadata": {
  "interpreter": {
   "hash": "8d86c190dfcadcdaa67edec4a1ea82702241987b5b1f320c920d3d4ca36fee5b"
  },
  "kernelspec": {
   "display_name": "Python 3.9.7 ('base')",
   "language": "python",
   "name": "python3"
  },
  "language_info": {
   "codemirror_mode": {
    "name": "ipython",
    "version": 3
   },
   "file_extension": ".py",
   "mimetype": "text/x-python",
   "name": "python",
   "nbconvert_exporter": "python",
   "pygments_lexer": "ipython3",
   "version": "3.9.7"
  },
  "orig_nbformat": 4
 },
 "nbformat": 4,
 "nbformat_minor": 2
}
