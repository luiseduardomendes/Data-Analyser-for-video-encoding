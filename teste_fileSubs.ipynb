{
 "cells": [
  {
   "cell_type": "code",
   "execution_count": 2,
   "metadata": {},
   "outputs": [
    {
     "data": {
      "text/plain": [
       "<fileSubstitution.fileSubs at 0x1785c8d4a30>"
      ]
     },
     "execution_count": 2,
     "metadata": {},
     "output_type": "execute_result"
    }
   ],
   "source": [
    "import fileSubstitution as fs\n",
    "\n",
    "fs.fileSubs(\"teste\", \"filesTest\")"
   ]
  },
  {
   "cell_type": "code",
   "execution_count": 4,
   "metadata": {},
   "outputs": [
    {
     "name": "stdout",
     "output_type": "stream",
     "text": [
      "['FilesForVVC/(4x4)\\\\VTM-8.1C\\\\RdCost(8x8)-1.cpp',\n",
      " 'FilesForVVC/(4x4)\\\\VTM-8.2C\\\\RdCost(8x8)-2.cpp',\n",
      " 'FilesForVVC/(4x4)\\\\VTM-8.3C\\\\RdCost(8x8)-3.cpp',\n",
      " 'FilesForVVC/(4x4)\\\\VTM-8.4C\\\\RdCost(8x8)-4.cpp',\n",
      " 'FilesForVVC/(4x4)\\\\VTM-8.5C\\\\RdCost(8x8)-5.cpp',\n",
      " 'FilesForVVC/(4x4)\\\\VTM-8.SAD\\\\RdCost(8x8)-SAD.cpp',\n",
      " 'FilesForVVC/(4x4)-1\\\\RdCost(4x4)-1-(8x8)-4.cpp',\n",
      " 'FilesForVVC/(4x4)-1\\\\RdCost(4x4)-1-(8x8)-5.cpp',\n",
      " 'FilesForVVC/(4x4)-1\\\\RdCost(4x4)-1-(8x8)-SAD.cpp',\n",
      " 'FilesForVVC/(4x4)-1\\\\RdCost(4x4)-1.cpp',\n",
      " 'FilesForVVC/(4x4)-1\\\\VTM-4.1C-8.1C\\\\RdCost(4x4)-1(8x8)-1.cpp',\n",
      " 'FilesForVVC/(4x4)-1\\\\VTM-4.1C-8.2C\\\\RdCost(4x4)-1 (8x8)-2.cpp',\n",
      " 'FilesForVVC/(4x4)-1\\\\VTM-4.1C-8.3C\\\\RdCost(4x4)-1 (8x8)-3.cpp',\n",
      " 'FilesForVVC/(4x4)-2\\\\RdCost(4x4)-2-(8x8)-4.cpp',\n",
      " 'FilesForVVC/(4x4)-2\\\\RdCost(4x4)-2-(8x8)-5.cpp',\n",
      " 'FilesForVVC/(4x4)-2\\\\RdCost(4x4)-2-(8x8)-SAD.cpp',\n",
      " 'FilesForVVC/(4x4)-2\\\\RdCost(4x4)-2.cpp',\n",
      " 'FilesForVVC/(4x4)-2\\\\VTM-4.2C-8.1C\\\\RdCost(4x4)-2 (8x8)-1.cpp',\n",
      " 'FilesForVVC/(4x4)-2\\\\VTM-4.2C-8.2C\\\\RdCost(4x4)-2 (8x8)-2.cpp',\n",
      " 'FilesForVVC/(4x4)-2\\\\VTM-4.2C-8.3C\\\\RdCost(4x4)-2 (8x8)-3.cpp',\n",
      " 'FilesForVVC/(4x4)-3\\\\RdCost(4x4)-3-(8x8)-4.cpp',\n",
      " 'FilesForVVC/(4x4)-3\\\\RdCost(4x4)-3-(8x8)-5.cpp',\n",
      " 'FilesForVVC/(4x4)-3\\\\RdCost(4x4)-3-(8x8)-SAD.cpp',\n",
      " 'FilesForVVC/(4x4)-3\\\\RdCost(4x4)-3.cpp',\n",
      " 'FilesForVVC/(4x4)-3\\\\VTM-4.3C-8.1C\\\\RdCost(4x4)-3 (8x8)-1.cpp',\n",
      " 'FilesForVVC/(4x4)-3\\\\VTM-4.3C-8.2C\\\\RdCost(4x4)-3 (8x8)-2.cpp',\n",
      " 'FilesForVVC/(4x4)-3\\\\VTM-4.3C-8.3C\\\\RdCost(4x4)-3 (8x8)-3.cpp',\n",
      " 'FilesForVVC/(4x4)-SAD\\\\RdCost(4x4)-SAD-(8x8)-4.cpp',\n",
      " 'FilesForVVC/(4x4)-SAD\\\\RdCost(4x4)-SAD-(8x8)-5.cpp',\n",
      " 'FilesForVVC/(4x4)-SAD\\\\RdCost(4x4)-SAD-(8x8)-SAD.cpp',\n",
      " 'FilesForVVC/(4x4)-SAD\\\\RdCost(4x4)-SAD.cpp',\n",
      " 'FilesForVVC/(4x4)-SAD\\\\VTM-4.SAD-8.1C\\\\RdCost(4x4)-SAD (8x8)-1.cpp',\n",
      " 'FilesForVVC/(4x4)-SAD\\\\VTM-4.SAD-8.2C\\\\RdCost(4x4)-SAD (8x8)-2.cpp',\n",
      " 'FilesForVVC/(4x4)-SAD\\\\VTM-4.SAD-8.3C\\\\RdCost(4x4)-SAD (8x8)-3.cpp']\n"
     ]
    }
   ],
   "source": [
    "from pprint import pprint\n",
    "import os\n",
    "\n",
    "cfg_videos_dir = '/home/luispmendes/VVCSoftware_VTM/cfg-files/'\n",
    "satd_dir = ''\n",
    "satd_src = 'FilesForVVC/'\n",
    "\n",
    "satd_settings = list()\n",
    "for (dirpath, dirnames, filenames) in os.walk(satd_src):\n",
    "    satd_settings += [os.path.join(dirpath, file) for file in filenames]\n",
    "\n",
    "pprint(satd_settings)"
   ]
  }
 ],
 "metadata": {
  "interpreter": {
   "hash": "8d86c190dfcadcdaa67edec4a1ea82702241987b5b1f320c920d3d4ca36fee5b"
  },
  "kernelspec": {
   "display_name": "Python 3.9.7 ('base')",
   "language": "python",
   "name": "python3"
  },
  "language_info": {
   "codemirror_mode": {
    "name": "ipython",
    "version": 3
   },
   "file_extension": ".py",
   "mimetype": "text/x-python",
   "name": "python",
   "nbconvert_exporter": "python",
   "pygments_lexer": "ipython3",
   "version": "3.9.7"
  },
  "orig_nbformat": 4
 },
 "nbformat": 4,
 "nbformat_minor": 2
}
