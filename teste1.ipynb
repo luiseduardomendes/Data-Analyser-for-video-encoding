{
 "cells": [
  {
   "cell_type": "code",
   "execution_count": 4,
   "metadata": {},
   "outputs": [
    {
     "data": {
      "text/plain": [
       "['BasketballDrive.cfg',\n",
       " 'BasketballPass.cfg',\n",
       " 'BQMall.cfg',\n",
       " 'Campfire.cfg',\n",
       " 'FoodMarket4.cfg',\n",
       " 'FourPeople.cfg',\n",
       " 'Johnny.cfg',\n",
       " 'RaceHorses.cfg',\n",
       " 'RitualDance.cfg',\n",
       " 'script_modify.py',\n",
       " 'show_files.py']"
      ]
     },
     "execution_count": 4,
     "metadata": {},
     "output_type": "execute_result"
    }
   ],
   "source": [
    "from os import listdir, path\n",
    "\n",
    "folder = 'cfg-files/'\n",
    "\n",
    "files = [f for f in listdir(folder) if path.isfile(path.join(folder, f))]\n",
    "files"
   ]
  },
  {
   "cell_type": "code",
   "execution_count": 17,
   "metadata": {},
   "outputs": [
    {
     "name": "stdout",
     "output_type": "stream",
     "text": [
      "['(4x4)-VTM-8.1C-RdCost(8x8)-1']\n",
      "['(4x4)-VTM-8.2C-RdCost(8x8)-2']\n",
      "['(4x4)-VTM-8.3C-RdCost(8x8)-3']\n",
      "['(4x4)-VTM-8.4C-RdCost(8x8)-4']\n",
      "['(4x4)-VTM-8.5C-RdCost(8x8)-5']\n",
      "['(4x4)-VTM-8.SAD-RdCost(8x8)-SAD']\n",
      "['(4x4)-1-RdCost(4x4)-1-(8x8)-4']\n",
      "['(4x4)-1-RdCost(4x4)-1-(8x8)-5']\n",
      "['(4x4)-1-RdCost(4x4)-1-(8x8)-SAD']\n",
      "['(4x4)-1-RdCost(4x4)-1']\n",
      "['(4x4)-1-VTM-4.1C-8.1C-RdCost(4x4)-1(8x8)-1']\n",
      "['(4x4)-1-VTM-4.1C-8.2C-RdCost(4x4)-1 (8x8)-2']\n",
      "['(4x4)-1-VTM-4.1C-8.3C-RdCost(4x4)-1 (8x8)-3']\n",
      "['(4x4)-2-RdCost(4x4)-2-(8x8)-4']\n",
      "['(4x4)-2-RdCost(4x4)-2-(8x8)-5']\n",
      "['(4x4)-2-RdCost(4x4)-2-(8x8)-SAD']\n",
      "['(4x4)-2-RdCost(4x4)-2']\n",
      "['(4x4)-2-VTM-4.2C-8.1C-RdCost(4x4)-2 (8x8)-1']\n",
      "['(4x4)-2-VTM-4.2C-8.2C-RdCost(4x4)-2 (8x8)-2']\n",
      "['(4x4)-2-VTM-4.2C-8.3C-RdCost(4x4)-2 (8x8)-3']\n",
      "['(4x4)-3-RdCost(4x4)-3-(8x8)-4']\n",
      "['(4x4)-3-RdCost(4x4)-3-(8x8)-5']\n",
      "['(4x4)-3-RdCost(4x4)-3-(8x8)-SAD']\n",
      "['(4x4)-3-RdCost(4x4)-3']\n",
      "['(4x4)-3-VTM-4.3C-8.1C-RdCost(4x4)-3 (8x8)-1']\n",
      "['(4x4)-3-VTM-4.3C-8.2C-RdCost(4x4)-3 (8x8)-2']\n",
      "['(4x4)-3-VTM-4.3C-8.3C-RdCost(4x4)-3 (8x8)-3']\n",
      "['(4x4)-SAD-RdCost(4x4)-SAD-(8x8)-4']\n",
      "['(4x4)-SAD-RdCost(4x4)-SAD-(8x8)-5']\n",
      "['(4x4)-SAD-RdCost(4x4)-SAD-(8x8)-SAD']\n",
      "['(4x4)-SAD-RdCost(4x4)-SAD']\n",
      "['(4x4)-SAD-VTM-4.SAD-8.1C-RdCost(4x4)-SAD (8x8)-1']\n",
      "['(4x4)-SAD-VTM-4.SAD-8.2C-RdCost(4x4)-SAD (8x8)-2']\n",
      "['(4x4)-SAD-VTM-4.SAD-8.3C-RdCost(4x4)-SAD (8x8)-3']\n"
     ]
    },
    {
     "data": {
      "text/plain": [
       "['FilesForVVC\\\\(4x4)\\\\VTM-8.1C\\\\RdCost(8x8)-1.cpp',\n",
       " 'FilesForVVC\\\\(4x4)\\\\VTM-8.2C\\\\RdCost(8x8)-2.cpp',\n",
       " 'FilesForVVC\\\\(4x4)\\\\VTM-8.3C\\\\RdCost(8x8)-3.cpp',\n",
       " 'FilesForVVC\\\\(4x4)\\\\VTM-8.4C\\\\RdCost(8x8)-4.cpp',\n",
       " 'FilesForVVC\\\\(4x4)\\\\VTM-8.5C\\\\RdCost(8x8)-5.cpp',\n",
       " 'FilesForVVC\\\\(4x4)\\\\VTM-8.SAD\\\\RdCost(8x8)-SAD.cpp',\n",
       " 'FilesForVVC\\\\(4x4)-1\\\\RdCost(4x4)-1-(8x8)-4.cpp',\n",
       " 'FilesForVVC\\\\(4x4)-1\\\\RdCost(4x4)-1-(8x8)-5.cpp',\n",
       " 'FilesForVVC\\\\(4x4)-1\\\\RdCost(4x4)-1-(8x8)-SAD.cpp',\n",
       " 'FilesForVVC\\\\(4x4)-1\\\\RdCost(4x4)-1.cpp',\n",
       " 'FilesForVVC\\\\(4x4)-1\\\\VTM-4.1C-8.1C\\\\RdCost(4x4)-1(8x8)-1.cpp',\n",
       " 'FilesForVVC\\\\(4x4)-1\\\\VTM-4.1C-8.2C\\\\RdCost(4x4)-1 (8x8)-2.cpp',\n",
       " 'FilesForVVC\\\\(4x4)-1\\\\VTM-4.1C-8.3C\\\\RdCost(4x4)-1 (8x8)-3.cpp',\n",
       " 'FilesForVVC\\\\(4x4)-2\\\\RdCost(4x4)-2-(8x8)-4.cpp',\n",
       " 'FilesForVVC\\\\(4x4)-2\\\\RdCost(4x4)-2-(8x8)-5.cpp',\n",
       " 'FilesForVVC\\\\(4x4)-2\\\\RdCost(4x4)-2-(8x8)-SAD.cpp',\n",
       " 'FilesForVVC\\\\(4x4)-2\\\\RdCost(4x4)-2.cpp',\n",
       " 'FilesForVVC\\\\(4x4)-2\\\\VTM-4.2C-8.1C\\\\RdCost(4x4)-2 (8x8)-1.cpp',\n",
       " 'FilesForVVC\\\\(4x4)-2\\\\VTM-4.2C-8.2C\\\\RdCost(4x4)-2 (8x8)-2.cpp',\n",
       " 'FilesForVVC\\\\(4x4)-2\\\\VTM-4.2C-8.3C\\\\RdCost(4x4)-2 (8x8)-3.cpp',\n",
       " 'FilesForVVC\\\\(4x4)-3\\\\RdCost(4x4)-3-(8x8)-4.cpp',\n",
       " 'FilesForVVC\\\\(4x4)-3\\\\RdCost(4x4)-3-(8x8)-5.cpp',\n",
       " 'FilesForVVC\\\\(4x4)-3\\\\RdCost(4x4)-3-(8x8)-SAD.cpp',\n",
       " 'FilesForVVC\\\\(4x4)-3\\\\RdCost(4x4)-3.cpp',\n",
       " 'FilesForVVC\\\\(4x4)-3\\\\VTM-4.3C-8.1C\\\\RdCost(4x4)-3 (8x8)-1.cpp',\n",
       " 'FilesForVVC\\\\(4x4)-3\\\\VTM-4.3C-8.2C\\\\RdCost(4x4)-3 (8x8)-2.cpp',\n",
       " 'FilesForVVC\\\\(4x4)-3\\\\VTM-4.3C-8.3C\\\\RdCost(4x4)-3 (8x8)-3.cpp',\n",
       " 'FilesForVVC\\\\(4x4)-SAD\\\\RdCost(4x4)-SAD-(8x8)-4.cpp',\n",
       " 'FilesForVVC\\\\(4x4)-SAD\\\\RdCost(4x4)-SAD-(8x8)-5.cpp',\n",
       " 'FilesForVVC\\\\(4x4)-SAD\\\\RdCost(4x4)-SAD-(8x8)-SAD.cpp',\n",
       " 'FilesForVVC\\\\(4x4)-SAD\\\\RdCost(4x4)-SAD.cpp',\n",
       " 'FilesForVVC\\\\(4x4)-SAD\\\\VTM-4.SAD-8.1C\\\\RdCost(4x4)-SAD (8x8)-1.cpp',\n",
       " 'FilesForVVC\\\\(4x4)-SAD\\\\VTM-4.SAD-8.2C\\\\RdCost(4x4)-SAD (8x8)-2.cpp',\n",
       " 'FilesForVVC\\\\(4x4)-SAD\\\\VTM-4.SAD-8.3C\\\\RdCost(4x4)-SAD (8x8)-3.cpp']"
      ]
     },
     "execution_count": 17,
     "metadata": {},
     "output_type": "execute_result"
    }
   ],
   "source": [
    "import re\n",
    "import os\n",
    "\n",
    "satd_src = 'FilesForVVC'\n",
    "\n",
    "satd_settings = []\n",
    "for (dirpath, dirnames, filenames) in os.walk(satd_src):\n",
    "    satd_settings += [os.path.join(dirpath, file) for file in filenames]\n",
    "\n",
    "pattern = re.compile(r'^FilesForVVC\\\\(.+)\\.cpp$')\n",
    "\n",
    "for i, name in enumerate(satd_settings):\n",
    "    print(str(re.findall(pattern, name)).replace('\\\\\\\\', '-'))\n",
    "\n",
    "satd_settings\n"
   ]
  }
 ],
 "metadata": {
  "interpreter": {
   "hash": "8d86c190dfcadcdaa67edec4a1ea82702241987b5b1f320c920d3d4ca36fee5b"
  },
  "kernelspec": {
   "display_name": "Python 3.9.7 ('base')",
   "language": "python",
   "name": "python3"
  },
  "language_info": {
   "name": "python",
   "version": "3.9.7"
  },
  "orig_nbformat": 4
 },
 "nbformat": 4,
 "nbformat_minor": 2
}
