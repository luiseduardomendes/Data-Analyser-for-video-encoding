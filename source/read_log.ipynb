{
 "cells": [
  {
   "cell_type": "code",
   "execution_count": 2,
   "metadata": {},
   "outputs": [],
   "source": [
    "import gprof_log as gplog\n",
    "import os\n",
    "import re\n",
    "import pandas as pd\n",
    "\n",
    "def make_dir_output(output_path, satd, enc):\n",
    "    if not os.path.isdir(os.path.join(output_path, satd)):\n",
    "        os.mkdir(os.path.join(output_path, satd))\n",
    "    if not os.path.isdir(os.path.join(output_path, satd, 'excel')):\n",
    "        os.mkdir((os.path.join(output_path, satd, 'excel')))\n",
    "    if not os.path.isdir(os.path.join(output_path, satd, 'csv')):\n",
    "        os.mkdir((os.path.join(output_path, satd, 'csv')))\n",
    "    if not os.path.isdir(os.path.join(output_path, satd, 'excel', enc)):\n",
    "        os.mkdir(os.path.join(output_path, satd, 'excel', enc))\n",
    "    if not os.path.isdir(os.path.join(output_path, satd, 'csv', enc)):\n",
    "        os.mkdir(os.path.join(output_path, satd, 'csv', enc))\n",
    "    \n",
    "    return\n",
    "\n",
    "ptrn = re.compile(r'log_(.+)_qp(\\d{2})_(\\w+)_.+RdCost(.+)_exec')\n",
    "\n",
    "output_path = 'outcsv/'\n",
    "\n",
    "if not os.path.isdir(output_path):\n",
    "    os.mkdir(output_path)\n",
    "\n",
    "directory = '../out/out/'\n",
    "\n",
    "satd_list = [os.path.join(directory, f) for f in os.listdir(directory)]\n",
    "\n",
    "for satd in satd_list:\n",
    "    files_list = []\n",
    "    for path, currentDirectory, files in os.walk(directory):\n",
    "        for file in files:\n",
    "            if file.endswith('.gplog') or file.endswith('txt'):\n",
    "                files_list.append(os.path.join(path, file))\n",
    "\n",
    "        data_list = []\n",
    "        for file in files_list:\n",
    "            name, qp, encoder, satd = ptrn.findall(file)[0]\n",
    "            data_list.append(gplog.read_log(file, name, qp, encoder, satd))\n",
    "\n",
    "        df = gplog.group_by_filename_2(data_list)\n",
    "\n",
    "    for key in df.keys():\n",
    "        data = df[key]    \n",
    "\n",
    "        make_dir_output(output_path, satd, data['encoder'][0])\n",
    "\n",
    "        data.to_csv(os.path.join(output_path, satd, 'csv', data['encoder'][0], data['fileName'][0]+'.csv'), index=False)\n",
    "        data.to_excel(os.path.join(output_path, satd, 'excel', data['encoder'][0], data['fileName'][0]+'.xlsx'), index=False)\n"
   ]
  }
 ],
 "metadata": {
  "interpreter": {
   "hash": "e1d67b35190c898c5b7e02a2e88c487c8bf4962507eec571cc8a46f2eb7e1767"
  },
  "kernelspec": {
   "display_name": "Python 3.9.7 ('base')",
   "language": "python",
   "name": "python3"
  },
  "language_info": {
   "codemirror_mode": {
    "name": "ipython",
    "version": 3
   },
   "file_extension": ".py",
   "mimetype": "text/x-python",
   "name": "python",
   "nbconvert_exporter": "python",
   "pygments_lexer": "ipython3",
   "version": "3.9.7"
  },
  "orig_nbformat": 4
 },
 "nbformat": 4,
 "nbformat_minor": 2
}
