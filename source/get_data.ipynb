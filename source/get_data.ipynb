{
 "cells": [
  {
   "cell_type": "code",
   "execution_count": null,
   "metadata": {},
   "outputs": [],
   "source": [
    "import gprof_log as gplog\n",
    "import os\n",
    "import re\n",
    "import pandas as pd\n",
    "\n",
    "# pattern that finds out what is the name of the video, qp, encoder used and the aproximation\n",
    "ptrn = re.compile(r'log_(.+)_qp(\\d{2})_(\\w+)_.+RdCost(.+)_exec')\n",
    "\n",
    "# path to output data, like csv and xlsx files\n",
    "output_path = 'outcsv/'\n",
    "\n",
    "# origin directory where the logs are\n",
    "directory = '../out/out/'\n",
    "\n",
    "# makes a list with all file paths recursively\n",
    "files_list = []\n",
    "for path, currentDirectory, files in os.walk(directory):\n",
    "    for file in files:\n",
    "        if file.endswith('.gplog') or file.endswith('.txt'):\n",
    "            files_list.append(os.path.join(path, file))"
   ]
  },
  {
   "cell_type": "code",
   "execution_count": 43,
   "metadata": {},
   "outputs": [],
   "source": [
    "# creates an empty data frame, in which the data will be storage\n",
    "df = gplog.create_df()\n",
    "for file in files_list:\n",
    "    # get the file information, based in it name\n",
    "    name, qp, encoder, satd = ptrn.findall(file)[0]\n",
    "    df = pd.concat([df, gplog.read_log(file, name, qp, encoder, satd)])\n",
    "df = df.sort_values(by=['satd', 'encoder', 'fileName', 'qp'])\n",
    "df.to_excel('data.xlsx', index=False)"
   ]
  }
 ],
 "metadata": {
  "kernelspec": {
   "display_name": "Python 3.9.12 ('base')",
   "language": "python",
   "name": "python3"
  },
  "language_info": {
   "codemirror_mode": {
    "name": "ipython",
    "version": 3
   },
   "file_extension": ".py",
   "mimetype": "text/x-python",
   "name": "python",
   "nbconvert_exporter": "python",
   "pygments_lexer": "ipython3",
   "version": "3.9.12"
  },
  "orig_nbformat": 4,
  "vscode": {
   "interpreter": {
    "hash": "02c1b4ef390a5efa9184e7809e1c04e02d7699a783b26d72e51ddd5cfed96e3f"
   }
  }
 },
 "nbformat": 4,
 "nbformat_minor": 2
}
