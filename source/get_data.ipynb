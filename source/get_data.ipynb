{
 "cells": [
  {
   "cell_type": "code",
   "execution_count": 45,
   "metadata": {},
   "outputs": [],
   "source": [
    "import gprof_log as gplog\n",
    "import os\n",
    "import re\n",
    "import pandas as pd\n",
    "\n",
    "ptrn = re.compile(r'log_(.+)_qp(\\d{2})_(\\w+)_.+RdCost(.+)_exec')\n",
    "\n",
    "output_path = 'outcsv/'\n",
    "\n",
    "directory = '../out/out/'\n",
    "\n",
    "files_list = []\n",
    "for path, currentDirectory, files in os.walk(directory):\n",
    "    for file in files:\n",
    "        if file.endswith('.gplog') or file.endswith('.txt'):\n",
    "            files_list.append(os.path.join(path, file))"
   ]
  },
  {
   "cell_type": "code",
   "execution_count": 43,
   "metadata": {},
   "outputs": [],
   "source": [
    "df = gplog.create_df()\n",
    "for file in files_list:\n",
    "    name, qp, encoder, satd = ptrn.findall(file)[0]\n",
    "    df = pd.concat([df, gplog.read_log(file, name, qp, encoder, satd)])\n",
    "df = df.sort_values(by=['satd', 'encoder', 'fileName', 'qp'])\n",
    "df.to_excel('data.xlsx', index=False)"
   ]
  }
 ],
 "metadata": {
  "interpreter": {
   "hash": "e1d67b35190c898c5b7e02a2e88c487c8bf4962507eec571cc8a46f2eb7e1767"
  },
  "kernelspec": {
   "display_name": "Python 3.9.7 ('base')",
   "language": "python",
   "name": "python3"
  },
  "language_info": {
   "codemirror_mode": {
    "name": "ipython",
    "version": 3
   },
   "file_extension": ".py",
   "mimetype": "text/x-python",
   "name": "python",
   "nbconvert_exporter": "python",
   "pygments_lexer": "ipython3",
   "version": "3.9.7"
  },
  "orig_nbformat": 4
 },
 "nbformat": 4,
 "nbformat_minor": 2
}
