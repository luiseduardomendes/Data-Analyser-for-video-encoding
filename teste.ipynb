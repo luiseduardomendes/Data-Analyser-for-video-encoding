{
 "cells": [
  {
   "cell_type": "code",
   "execution_count": 1,
   "metadata": {},
   "outputs": [],
   "source": [
    "import gprof_log_manipulation as gpLog\n",
    "\n",
    "data_dict = gpLog.gprofLogManip('AI/BasketballPass_QP32.txt')\n",
    "data_dict = data_dict.returnDict()\n",
    "\n",
    "data_sets = gpLog.gprofLogSets()\n",
    "\n",
    "data_sets.appendDict(data_dict)\n",
    "data_sets.createCsv('file')"
   ]
  },
  {
   "cell_type": "code",
   "execution_count": 2,
   "metadata": {},
   "outputs": [],
   "source": [
    "import gprof_out_manipulation as gpOut\n",
    "\n",
    "gpData = gpOut.GprofOutManip('akiyocopy.txt')\n",
    "\n",
    "gpData.read_gprof_out()\n",
    "gpData.convert_data_frame_into_CSV()\n",
    "gpData.convert_data_frame_into_excel()\n"
   ]
  }
 ],
 "metadata": {
  "interpreter": {
   "hash": "e1d67b35190c898c5b7e02a2e88c487c8bf4962507eec571cc8a46f2eb7e1767"
  },
  "kernelspec": {
   "display_name": "Python 3.9.7 ('base')",
   "language": "python",
   "name": "python3"
  },
  "language_info": {
   "codemirror_mode": {
    "name": "ipython",
    "version": 3
   },
   "file_extension": ".py",
   "mimetype": "text/x-python",
   "name": "python",
   "nbconvert_exporter": "python",
   "pygments_lexer": "ipython3",
   "version": "3.9.7"
  },
  "orig_nbformat": 4
 },
 "nbformat": 4,
 "nbformat_minor": 2
}
