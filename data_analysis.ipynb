{
 "cells": [
  {
   "cell_type": "code",
   "execution_count": null,
   "metadata": {},
   "outputs": [],
   "source": [
    "\n",
    "import os\n",
    "import src.gprof_log_manipulation as gplog\n",
    "\n",
    "folder = 'out/4x4-1-RdCost4x4-1-8x8-SAD/'\n",
    "\n",
    "videos = []\n",
    "for (dirpath, dirnames, filenames) in os.walk(folder):\n",
    "    videos += [os.path.join(dirpath, file) for file in filenames]\n",
    "\n",
    "for video in videos:\n",
    "    gplog.gprofLogManip()\n",
    "\n"
   ]
  },
  {
   "cell_type": "code",
   "execution_count": null,
   "metadata": {},
   "outputs": [],
   "source": []
  }
 ],
 "metadata": {
  "language_info": {
   "name": "python"
  },
  "orig_nbformat": 4
 },
 "nbformat": 4,
 "nbformat_minor": 2
}
