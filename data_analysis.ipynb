{
 "cells": [
  {
   "cell_type": "code",
   "execution_count": 11,
   "metadata": {},
   "outputs": [],
   "source": [
    "import src.gprof_log_manipulation as gp\n",
    "from os import listdir, path,mkdir\n",
    "import re\n",
    "import os\n",
    "\n",
    "directory = 'out/4x4-1-RdCost4x4-1-8x8-SAD/'\n",
    "files = []\n",
    "for (dirpath, dirnames, filenames) in os.walk(directory):\n",
    "    files += [os.path.join(dirpath, file) for file in filenames]\n",
    "\n",
    "fileNames = []\n",
    "\n",
    "namePattern = re.compile(r'^out/4x4-1-RdCost4x4-1-8x8-SAD/(.+)/exec_log/log_.+_qp(\\d{2}).+$')\n",
    "\n",
    "# make a list with all video names\n",
    "for f in files:\n",
    "    name = str(namePattern.findall(f)[0][0]).replace('/', '_')\n",
    "    if name not in fileNames:\n",
    "        fileNames.append(name)\n",
    "\n",
    "# make a gprof_log_set to every name in list\n",
    "\n",
    "gpSetsNames = {}\n",
    "for name in fileNames:\n",
    "    gpSetsNames[name] = gp.gprofLogSets()\n",
    "\n",
    "\n",
    "#\n",
    "for f in files:\n",
    "    s = namePattern.findall(f)\n",
    "    name = str(s[0][0]).replace('/', '_')\n",
    "    qp = s[0][1]\n",
    "\n",
    "    elem = gp.gprofLogManip(f, name, qp)\n",
    "    gpSetsNames[name].appendDict(elem.returnDict())\n",
    "\n",
    "# directory to storage the excel and csv files\n",
    "excel_dir = 'filesOutLog/excelFiles'\n",
    "csv_dir = 'filesOutLog/csvFiles'\n",
    "graph_dir = 'filesOutLog/graphFiles'\n",
    "\n",
    "if not path.isdir('filesOutLog'):\n",
    "    mkdir('filesOutLog')\n",
    "if not path.isdir(excel_dir):\n",
    "    mkdir(excel_dir)\n",
    "if not path.isdir(csv_dir):\n",
    "    mkdir(csv_dir)\n",
    "if not path.isdir(graph_dir):\n",
    "    mkdir(graph_dir)\n",
    "\n",
    "data_lists = []\n",
    "\n",
    "for name in fileNames:\n",
    "    gpSetsNames[name].createExcel(excel_dir+'/'+name)\n",
    "    gpSetsNames[name].createCsv(csv_dir+'/'+name)\n"
   ]
  }
 ],
 "metadata": {
  "interpreter": {
   "hash": "e1d67b35190c898c5b7e02a2e88c487c8bf4962507eec571cc8a46f2eb7e1767"
  },
  "kernelspec": {
   "display_name": "Python 3.9.7 ('base')",
   "language": "python",
   "name": "python3"
  },
  "language_info": {
   "codemirror_mode": {
    "name": "ipython",
    "version": 3
   },
   "file_extension": ".py",
   "mimetype": "text/x-python",
   "name": "python",
   "nbconvert_exporter": "python",
   "pygments_lexer": "ipython3",
   "version": "3.9.7"
  },
  "orig_nbformat": 4
 },
 "nbformat": 4,
 "nbformat_minor": 2
}
