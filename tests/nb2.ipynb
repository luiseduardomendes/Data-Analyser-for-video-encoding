{
 "cells": [
  {
   "cell_type": "code",
   "execution_count": 56,
   "metadata": {},
   "outputs": [
    {
     "data": {
      "text/plain": [
       "86228"
      ]
     },
     "execution_count": 56,
     "metadata": {},
     "output_type": "execute_result"
    }
   ],
   "source": [
    "import re\n",
    "import pandas as pd\n",
    "\n",
    "file_path = 'akiyo.txt'\n",
    "\n",
    "dataFile = open(file_path) \n",
    "\n",
    "dataOut = open(f'{file_path}.csv', 'w') \n",
    "\n",
    "stringList = []\n",
    "\n",
    "for line in dataFile:\n",
    "    stringList.append(dataFile.readline())\n",
    "\n",
    "pattern = re.compile(r'(\\d+\\.\\d+)\\s+(\\d+\\.\\d+)\\s+(\\d+\\.\\d+|\\s+)\\s+(\\d+|\\s+)\\s+(\\d+\\.\\d+|\\s+)\\s+(\\d+\\.\\d+|\\s+)\\s+(.+)')\n",
    "ptrn_cls_name = re.compile(r'(\\w+)[::]')\n",
    "ptrn_fnc_name = re.compile(r'[::](\\w+)[\\(]')\n",
    "\n",
    "structBuffer = {\n",
    "    'percentageTime' : [],\n",
    "    'cumulativeTime' : [],\n",
    "    'selfSeconds' : [],\n",
    "    'calls' : [],\n",
    "    'selfMs/call' : [],\n",
    "    'totalMs/call' : [],\n",
    "    'function' : [],\n",
    "    'class' : []\n",
    "}\n",
    "count = 0\n",
    "\n",
    "for line in stringList:\n",
    "    \n",
    "    check = pattern.findall(line)\n",
    "    if (len(check) != 0):\n",
    "        buffer = check[0][:]\n",
    "                \n",
    "        structBuffer['percentageTime'].append(float(buffer[0]))\n",
    "        structBuffer['cumulativeTime'].append(float(buffer[1]))\n",
    "        try:\n",
    "            structBuffer['selfSeconds'].append(float(buffer[2]))\n",
    "        except:\n",
    "            structBuffer['selfSeconds'].append(-1)\n",
    "\n",
    "        try:\n",
    "            structBuffer['calls'].append(int(buffer[3]))\n",
    "        except:\n",
    "            structBuffer['calls'].append(-1)\n",
    "        \n",
    "        try:\n",
    "            structBuffer['selfMs/call'].append(float(buffer[4]))\n",
    "        except:\n",
    "            structBuffer['selfMs/call'].append(-1.00)\n",
    "\n",
    "        try:\n",
    "            structBuffer['totalMs/call'].append(float(buffer[5]))\n",
    "        except:\n",
    "            structBuffer['totalMs/call'].append(-1.00)\n",
    "\n",
    "        className = ptrn_cls_name.findall(buffer[6])\n",
    "        funcName = ptrn_fnc_name.findall(buffer[6])\n",
    "        \n",
    "        if len(className) > 0: \n",
    "            structBuffer['class'].append(className[0])\n",
    "            if len(funcName) != 0: \n",
    "                structBuffer['function'].append(funcName[0])\n",
    "            else:\n",
    "                structBuffer['function'].append(re.compile(r'([\\w|\\s]+)').findall(buffer[6])[0])\n",
    "        else:\n",
    "            structBuffer['class'].append('void_class')\n",
    "            if len(funcName) != 0: \n",
    "                structBuffer['function'].append(funcName[0])\n",
    "            else:\n",
    "                structBuffer['function'].append(re.compile(r'([\\w|\\s]+)').findall(buffer[6])[0])\n",
    "data_frame = pd.DataFrame(structBuffer).to_csv()\n",
    "dataOut.write(data_frame)"
   ]
  }
 ],
 "metadata": {
  "language_info": {
   "name": "python"
  },
  "orig_nbformat": 4
 },
 "nbformat": 4,
 "nbformat_minor": 2
}
