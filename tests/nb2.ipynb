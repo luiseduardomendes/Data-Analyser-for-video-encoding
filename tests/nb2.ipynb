{
 "cells": [
  {
   "cell_type": "code",
   "execution_count": 1,
   "metadata": {},
   "outputs": [
    {
     "data": {
      "text/plain": [
       "84728"
      ]
     },
     "execution_count": 1,
     "metadata": {},
     "output_type": "execute_result"
    }
   ],
   "source": [
    "import re\n",
    "import pandas as pd\n",
    "\n",
    "file_path = 'akiyo.txt'\n",
    "\n",
    "dataFile = open(file_path) \n",
    "\n",
    "dataOut = open(f'{file_path}.csv', 'w') \n",
    "\n",
    "stringList = []\n",
    "\n",
    "for line in dataFile:\n",
    "    stringList.append(dataFile.readline())\n",
    "\n",
    "pattern = re.compile(r'(\\d+\\.\\d+)\\s+(\\d+\\.\\d+)\\s+(\\d+\\.\\d+|\\s+)\\s+(\\d+|\\s+)\\s+(\\d+\\.\\d+|\\s+)\\s+(\\d+\\.\\d+|\\s+)\\s+(.+)')\n",
    "ptrn_cls_name = re.compile(r'(\\w+)[::]')\n",
    "ptrn_fnc_name = re.compile(r'[::](\\w+)[\\(]')\n",
    "\n",
    "structBuffer = {\n",
    "    'percentageTime' : [],\n",
    "    'cumulativeTime' : [],\n",
    "    'selfSeconds' : [],\n",
    "    'calls' : [],\n",
    "    'selfMs/call' : [],\n",
    "    'totalMs/call' : [],\n",
    "    'function' : [],\n",
    "    'class' : []\n",
    "}\n",
    "count = 0\n",
    "\n",
    "for line in stringList:\n",
    "    \n",
    "    check = pattern.findall(line)\n",
    "    if (len(check) != 0):\n",
    "        buffer = check[0][:]\n",
    "                \n",
    "        structBuffer['percentageTime'].append(float(buffer[0]))\n",
    "        structBuffer['cumulativeTime'].append(float(buffer[1]))\n",
    "        try:\n",
    "            structBuffer['selfSeconds'].append(float(buffer[2]))\n",
    "        except:\n",
    "            structBuffer['selfSeconds'].append(-1)\n",
    "\n",
    "        try:\n",
    "            structBuffer['calls'].append(int(buffer[3]))\n",
    "        except:\n",
    "            structBuffer['calls'].append(-1)\n",
    "        \n",
    "        try:\n",
    "            structBuffer['selfMs/call'].append(float(buffer[4]))\n",
    "        except:\n",
    "            structBuffer['selfMs/call'].append(-1.00)\n",
    "\n",
    "        try:\n",
    "            structBuffer['totalMs/call'].append(float(buffer[5]))\n",
    "        except:\n",
    "            structBuffer['totalMs/call'].append(-1.00)\n",
    "\n",
    "        className = ptrn_cls_name.findall(buffer[6])\n",
    "        funcName = ptrn_fnc_name.findall(buffer[6])\n",
    "        \n",
    "        if len(className) > 0: \n",
    "            structBuffer['class'].append(className[0])\n",
    "            if len(funcName) != 0: \n",
    "                structBuffer['function'].append(funcName[0])\n",
    "            else:\n",
    "                structBuffer['function'].append(re.compile(r'([\\w|\\s]+)').findall(buffer[6])[0])\n",
    "        else:\n",
    "            structBuffer['class'].append('void_class')\n",
    "            if len(funcName) != 0: \n",
    "                structBuffer['function'].append(funcName[0])\n",
    "            else:\n",
    "                structBuffer['function'].append(re.compile(r'([\\w|\\s]+)').findall(buffer[6])[0])\n",
    "data_frame = pd.DataFrame(structBuffer).to_csv()\n",
    "dataOut.write(data_frame)"
   ]
  },
  {
   "cell_type": "code",
   "execution_count": 3,
   "metadata": {},
   "outputs": [
    {
     "name": "stdout",
     "output_type": "stream",
     "text": [
      "{'nome': {0: 'joao', 1: 'clara', 2: 'jose', 3: 'joao', 4: 'jose'}, 'idade': {0: 30, 1: 27, 2: 24, 3: 35, 4: 40}, 'altura': {0: 1.7, 1: 1.65, 2: 1.75, 3: 1.75, 4: 1.8}, 'peso': {0: 65, 1: 56, 2: 75, 3: 85, 4: 95}}\n",
      "{'nome': ['joao', 'clara', 'jose'], 'idade': [65, 27, 64], 'altura': [3.45, 1.65, 3.55], 'peso': [150, 56, 170]}\n"
     ]
    }
   ],
   "source": [
    "data_frame = pd.read_csv('csv_file.csv')\n",
    "\n",
    "__dict_data__ = data_frame.to_dict()\n",
    "\n",
    "print(__dict_data__)\n",
    "\n",
    "dict_data = {\n",
    "    'nome' : [],\n",
    "    'idade' : [],\n",
    "    'altura' : [],\n",
    "    'peso' : []\n",
    "}\n",
    "\n",
    "dict_data_agl = {\n",
    "    'nome' : [],\n",
    "    'idade' : [],\n",
    "    'altura' : [],\n",
    "    'peso' : []\n",
    "}\n",
    "\n",
    "# transform into dict of lists\n",
    "for i in __dict_data__.items():\n",
    "    for cont, j in enumerate(i[1].values()):\n",
    "        dict_data[i[0]].append(j)\n",
    "\n",
    "# auxiliar function to find the first occurrency of a name\n",
    "def return_element_id(name : str) -> int:\n",
    "    for i, j in enumerate(dict_data_agl['nome']):\n",
    "        if name == j:\n",
    "            return i\n",
    "        \n",
    "    return -1\n",
    "\n",
    "# sum of elements with same name\n",
    "for i in range (0, len(dict_data['nome'])):\n",
    "    if dict_data['nome'][i] in dict_data_agl['nome']:\n",
    "        for j in dict_data_agl.items():\n",
    "            \n",
    "            if type(j[1][0]) != str:\n",
    "                dict_data_agl[j[0]][return_element_id(dict_data['nome'][i])] += dict_data[j[0]][i]\n",
    "    else:\n",
    "        for j in dict_data_agl.keys():\n",
    "            dict_data_agl[j].append(dict_data[j][i])\n",
    "\n",
    "print(dict_data_agl)\n",
    "\n",
    "\n",
    "         "
   ]
  },
  {
   "cell_type": "code",
   "execution_count": null,
   "metadata": {},
   "outputs": [],
   "source": []
  }
 ],
 "metadata": {
  "interpreter": {
   "hash": "8d86c190dfcadcdaa67edec4a1ea82702241987b5b1f320c920d3d4ca36fee5b"
  },
  "kernelspec": {
   "display_name": "Python 3.9.7 ('base')",
   "language": "python",
   "name": "python3"
  },
  "language_info": {
   "codemirror_mode": {
    "name": "ipython",
    "version": 3
   },
   "file_extension": ".py",
   "mimetype": "text/x-python",
   "name": "python",
   "nbconvert_exporter": "python",
   "pygments_lexer": "ipython3",
   "version": "3.9.7"
  },
  "orig_nbformat": 4
 },
 "nbformat": 4,
 "nbformat_minor": 2
}
