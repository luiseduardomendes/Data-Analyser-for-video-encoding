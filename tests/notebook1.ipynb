{
 "cells": [
  {
   "cell_type": "code",
   "execution_count": 34,
   "metadata": {
    "collapsed": true
   },
   "outputs": [
    {
     "ename": "TypeError",
     "evalue": "'list' object is not callable",
     "output_type": "error",
     "traceback": [
      "\u001b[1;31m---------------------------------------------------------------------------\u001b[0m",
      "\u001b[1;31mTypeError\u001b[0m                                 Traceback (most recent call last)",
      "\u001b[1;32m~\\AppData\\Local\\Temp/ipykernel_33328/3621520481.py\u001b[0m in \u001b[0;36m<module>\u001b[1;34m\u001b[0m\n\u001b[0;32m     40\u001b[0m \u001b[1;33m\u001b[0m\u001b[0m\n\u001b[0;32m     41\u001b[0m \u001b[1;33m\u001b[0m\u001b[0m\n\u001b[1;32m---> 42\u001b[1;33m \u001b[1;32mfor\u001b[0m \u001b[0mi\u001b[0m \u001b[1;32min\u001b[0m \u001b[0mdataList\u001b[0m\u001b[1;33m(\u001b[0m\u001b[1;36m0\u001b[0m\u001b[1;33m,\u001b[0m \u001b[1;36m20\u001b[0m\u001b[1;33m)\u001b[0m\u001b[1;33m:\u001b[0m\u001b[1;33m\u001b[0m\u001b[1;33m\u001b[0m\u001b[0m\n\u001b[0m\u001b[0;32m     43\u001b[0m     \u001b[0mprint\u001b[0m\u001b[1;33m(\u001b[0m\u001b[0mi\u001b[0m\u001b[1;33m[\u001b[0m\u001b[1;34m'percentage time'\u001b[0m\u001b[1;33m]\u001b[0m\u001b[1;33m,\u001b[0m \u001b[0mi\u001b[0m\u001b[1;33m[\u001b[0m\u001b[1;34m'cumulative time'\u001b[0m\u001b[1;33m]\u001b[0m\u001b[1;33m,\u001b[0m \u001b[0mi\u001b[0m\u001b[1;33m[\u001b[0m\u001b[1;34m'self seconds'\u001b[0m\u001b[1;33m]\u001b[0m\u001b[1;33m,\u001b[0m \u001b[0mi\u001b[0m\u001b[1;33m[\u001b[0m\u001b[1;34m'calls'\u001b[0m\u001b[1;33m]\u001b[0m\u001b[1;33m,\u001b[0m \u001b[0mi\u001b[0m\u001b[1;33m[\u001b[0m\u001b[1;34m'self ms/call'\u001b[0m\u001b[1;33m]\u001b[0m\u001b[1;33m,\u001b[0m \u001b[0mi\u001b[0m\u001b[1;33m[\u001b[0m\u001b[1;34m'total ms/call'\u001b[0m\u001b[1;33m]\u001b[0m\u001b[1;33m,\u001b[0m \u001b[0mi\u001b[0m\u001b[1;33m[\u001b[0m\u001b[1;34m'name'\u001b[0m\u001b[1;33m]\u001b[0m\u001b[1;33m)\u001b[0m\u001b[1;33m\u001b[0m\u001b[1;33m\u001b[0m\u001b[0m\n\u001b[0;32m     44\u001b[0m \u001b[1;33m\u001b[0m\u001b[0m\n",
      "\u001b[1;31mTypeError\u001b[0m: 'list' object is not callable"
     ]
    }
   ],
   "source": [
    "import re\n",
    "text = '''\n",
    "  0.02     50.95     0.01        1     0.01     0.01  IntraPrediction::init()\n",
    "  0.02     50.96     0.01        1     0.01     0.01  MatrixIntraPrediction::MatrixIntraPrediction()\n",
    "  0.02     50.97     0.01        1     0.01     0.03  QuantRDOQ::setFlatScalingList()\n",
    "  0.02     50.98     0.01                             void invTransformCbCr<2>()\n",
    "  0.02     50.99     0.01                             CABACWriter::cuPaletteSubblockInfo()\n",
    "'''\n",
    "\n",
    "pattern = re.compile(r'([\\d]+\\.[\\d]+)[ ]+([\\d]+\\.[\\d]+)[ ]+([\\d]+\\.[\\d]+|[ ]+)[ ]+([\\d]+|[ ]+)[ ]+([\\d]+\\.[\\d]+|[ ]+)[ ]+([\\d]+\\.[\\d]+|[ ]+)[ ]+(.+)')\n",
    "check = pattern.findall(text)\n",
    "\n",
    "structBuffer = dict()\n",
    "\n",
    "for i in check:\n",
    "    print(i[0], i[1], i[2], i[3], i[4], i[5], i[6])\n",
    "    \n",
    "    structBuffer['percentage time'] = i[0]\n",
    "    struct['cumulative time'] = i[1]\n",
    "    struct['self seconds'] = i[2]\n",
    "    struct['calls'] = i[3]\n",
    "    struct['self ms/call'] = i[4]\n",
    "    struct['total ms/call'] = i[5]\n",
    "    struct['name'] = i[6]\n",
    "\n",
    "    \n",
    "    \n",
    "    \n",
    "    \n",
    "    if i[0] != '':"
   ]
  },
  {
   "cell_type": "code",
   "execution_count": 42,
   "metadata": {
    "collapsed": false,
    "pycharm": {
     "name": "#%%\n"
    }
   },
   "outputs": [
    {
     "name": "stdout",
     "output_type": "stream",
     "text": [
      "<_sre.SRE_Match object; span=(3, 7), match='0.02'>\n",
      "<_sre.SRE_Match object; span=(12, 17), match='50.95'>\n",
      "<_sre.SRE_Match object; span=(22, 26), match='0.01'>\n",
      "<_sre.SRE_Match object; span=(40, 44), match='0.01'>\n",
      "<_sre.SRE_Match object; span=(49, 53), match='0.01'>\n",
      "<_sre.SRE_Match object; span=(81, 85), match='0.02'>\n",
      "<_sre.SRE_Match object; span=(90, 95), match='50.96'>\n",
      "<_sre.SRE_Match object; span=(100, 104), match='0.01'>\n",
      "<_sre.SRE_Match object; span=(118, 122), match='0.01'>\n",
      "<_sre.SRE_Match object; span=(127, 131), match='0.01'>\n",
      "<_sre.SRE_Match object; span=(182, 186), match='0.02'>\n",
      "<_sre.SRE_Match object; span=(191, 196), match='50.97'>\n",
      "<_sre.SRE_Match object; span=(201, 205), match='0.01'>\n",
      "<_sre.SRE_Match object; span=(219, 223), match='0.01'>\n",
      "<_sre.SRE_Match object; span=(228, 232), match='0.03'>\n",
      "<_sre.SRE_Match object; span=(268, 272), match='0.02'>\n",
      "<_sre.SRE_Match object; span=(277, 282), match='50.98'>\n",
      "<_sre.SRE_Match object; span=(287, 291), match='0.01'>\n",
      "<_sre.SRE_Match object; span=(349, 353), match='0.02'>\n",
      "<_sre.SRE_Match object; span=(358, 363), match='50.99'>\n",
      "<_sre.SRE_Match object; span=(368, 372), match='0.01'>\n"
     ]
    }
   ],
   "source": [
    "#elementos iterativos\n",
    "\n",
    "check_finditer = pattern.finditer(text)\n",
    "years = check_finditer\n",
    "\n",
    "for year in years:\n",
    "    print(year)\n"
   ]
  }
 ],
 "metadata": {
  "kernelspec": {
   "display_name": "Python 3",
   "language": "python",
   "name": "python3"
  },
  "language_info": {
   "codemirror_mode": {
    "name": "ipython",
    "version": 2
   },
   "file_extension": ".py",
   "mimetype": "text/x-python",
   "name": "python",
   "nbconvert_exporter": "python",
   "pygments_lexer": "ipython2",
   "version": "3.8.10"
  }
 },
 "nbformat": 4,
 "nbformat_minor": 0
}
