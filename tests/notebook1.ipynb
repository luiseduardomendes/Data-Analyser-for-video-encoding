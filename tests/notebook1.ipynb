{
 "cells": [
  {
   "cell_type": "code",
   "execution_count": 8,
   "metadata": {
    "collapsed": true
   },
   "outputs": [
    {
     "name": "stdout",
     "output_type": "stream",
     "text": [
      "('0.02', '50.95', '0.01', '1', '0.01', '0.01', 'IntraPrediction::init()')\n",
      "('0.02', '50.96', '0.01', '1', '0.01', '0.01', 'MatrixIntraPrediction::MatrixIntraPrediction()')\n",
      "('0.02', '50.97', '0.01', '1', '0.01', '0.03', 'QuantRDOQ::setFlatScalingList()')\n",
      "('0.02', '50.98', '0.01', ' ', ' ', ' ', 'void invTransformCbCr<2>()')\n",
      "('0.02', '50.99', '0.01', ' ', ' ', ' ', 'CABACWriter::cuPaletteSubblockInfo()')\n"
     ]
    }
   ],
   "source": [
    "import re\n",
    "text = '''\n",
    "  0.02     50.95     0.01        1     0.01     0.01  IntraPrediction::init()\n",
    "  0.02     50.96     0.01        1     0.01     0.01  MatrixIntraPrediction::MatrixIntraPrediction()\n",
    "  0.02     50.97     0.01        1     0.01     0.03  QuantRDOQ::setFlatScalingList()\n",
    "  0.02     50.98     0.01                             void invTransformCbCr<2>()\n",
    "  0.02     50.99     0.01                             CABACWriter::cuPaletteSubblockInfo()\n",
    "'''\n",
    "\n",
    "pattern = re.compile(r'([\\d]+\\.[\\d]+)[ ]+([\\d]+\\.[\\d]+)[ ]+([\\d]+\\.[\\d]+|[ ]+)[ ]+([\\d]+|[ ]+)[ ]+([\\d]+\\.[\\d]+|[ ]+)[ ]+([\\d]+\\.[\\d]+|[ ]+)[ ]+(.+)')\n",
    "check = pattern.findall(text)\n",
    "\n",
    "for i in check:\n",
    "    print(i)"
   ]
  },
  {
   "cell_type": "code",
   "execution_count": 42,
   "metadata": {
    "collapsed": false,
    "pycharm": {
     "name": "#%%\n"
    }
   },
   "outputs": [
    {
     "name": "stdout",
     "output_type": "stream",
     "text": [
      "<_sre.SRE_Match object; span=(3, 7), match='0.02'>\n",
      "<_sre.SRE_Match object; span=(12, 17), match='50.95'>\n",
      "<_sre.SRE_Match object; span=(22, 26), match='0.01'>\n",
      "<_sre.SRE_Match object; span=(40, 44), match='0.01'>\n",
      "<_sre.SRE_Match object; span=(49, 53), match='0.01'>\n",
      "<_sre.SRE_Match object; span=(81, 85), match='0.02'>\n",
      "<_sre.SRE_Match object; span=(90, 95), match='50.96'>\n",
      "<_sre.SRE_Match object; span=(100, 104), match='0.01'>\n",
      "<_sre.SRE_Match object; span=(118, 122), match='0.01'>\n",
      "<_sre.SRE_Match object; span=(127, 131), match='0.01'>\n",
      "<_sre.SRE_Match object; span=(182, 186), match='0.02'>\n",
      "<_sre.SRE_Match object; span=(191, 196), match='50.97'>\n",
      "<_sre.SRE_Match object; span=(201, 205), match='0.01'>\n",
      "<_sre.SRE_Match object; span=(219, 223), match='0.01'>\n",
      "<_sre.SRE_Match object; span=(228, 232), match='0.03'>\n",
      "<_sre.SRE_Match object; span=(268, 272), match='0.02'>\n",
      "<_sre.SRE_Match object; span=(277, 282), match='50.98'>\n",
      "<_sre.SRE_Match object; span=(287, 291), match='0.01'>\n",
      "<_sre.SRE_Match object; span=(349, 353), match='0.02'>\n",
      "<_sre.SRE_Match object; span=(358, 363), match='50.99'>\n",
      "<_sre.SRE_Match object; span=(368, 372), match='0.01'>\n"
     ]
    }
   ],
   "source": [
    "#elementos iterativos\n",
    "\n",
    "check_finditer = padrao.finditer(texto)\n",
    "years = check_finditer\n",
    "\n",
    "for year in years:\n",
    "    print(year)\n"
   ]
  }
 ],
 "metadata": {
  "kernelspec": {
   "display_name": "Python 3",
   "language": "python",
   "name": "python3"
  },
  "language_info": {
   "codemirror_mode": {
    "name": "ipython",
    "version": 3
   },
   "file_extension": ".py",
   "mimetype": "text/x-python",
   "name": "python",
   "nbconvert_exporter": "python",
   "pygments_lexer": "ipython3",
   "version": "3.8.10"
  }
 },
 "nbformat": 4,
 "nbformat_minor": 0
}
